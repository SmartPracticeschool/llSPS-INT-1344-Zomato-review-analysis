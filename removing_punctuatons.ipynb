{
 "cells": [
  {
   "cell_type": "code",
   "execution_count": 1,
   "metadata": {},
   "outputs": [],
   "source": [
    "import numpy as np\n",
    "import matplotlib.pyplot as plt\n",
    "import pandas as pd"
   ]
  },
  {
   "cell_type": "code",
   "execution_count": 2,
   "metadata": {},
   "outputs": [
    {
     "name": "stdout",
     "output_type": "stream",
     "text": [
      "<class 'pandas.core.frame.DataFrame'>\n",
      "RangeIndex: 500 entries, 0 to 499\n",
      "Data columns (total 17 columns):\n",
      " #   Column                       Non-Null Count  Dtype \n",
      "---  ------                       --------------  ----- \n",
      " 0   url                          500 non-null    object\n",
      " 1   address                      500 non-null    object\n",
      " 2   name                         500 non-null    object\n",
      " 3   online_order                 500 non-null    object\n",
      " 4   book_table                   500 non-null    object\n",
      " 5   rate                         456 non-null    object\n",
      " 6   votes                        500 non-null    int64 \n",
      " 7   phone                        494 non-null    object\n",
      " 8   location                     500 non-null    object\n",
      " 9   rest_type                    500 non-null    object\n",
      " 10  dish_liked                   237 non-null    object\n",
      " 11  cuisines                     498 non-null    object\n",
      " 12  approx_cost(for two people)  500 non-null    object\n",
      " 13  reviews_list                 500 non-null    object\n",
      " 14  menu_item                    500 non-null    object\n",
      " 15  listed_in(type)              500 non-null    object\n",
      " 16  listed_in(city)              500 non-null    object\n",
      "dtypes: int64(1), object(16)\n",
      "memory usage: 66.5+ KB\n"
     ]
    }
   ],
   "source": [
    "#import dataset\n",
    "dataset = pd.read_csv('zomato500.csv')\n",
    "dataset.info()"
   ]
  },
  {
   "cell_type": "code",
   "execution_count": 3,
   "metadata": {},
   "outputs": [
    {
     "data": {
      "text/plain": [
       "url                            False\n",
       "address                        False\n",
       "name                           False\n",
       "online_order                   False\n",
       "book_table                     False\n",
       "rate                            True\n",
       "votes                          False\n",
       "phone                           True\n",
       "location                       False\n",
       "rest_type                      False\n",
       "dish_liked                      True\n",
       "cuisines                        True\n",
       "approx_cost(for two people)    False\n",
       "reviews_list                   False\n",
       "menu_item                      False\n",
       "listed_in(type)                False\n",
       "listed_in(city)                False\n",
       "dtype: bool"
      ]
     },
     "execution_count": 3,
     "metadata": {},
     "output_type": "execute_result"
    }
   ],
   "source": [
    "dataset.isnull().any()"
   ]
  },
  {
   "cell_type": "code",
   "execution_count": 4,
   "metadata": {},
   "outputs": [],
   "source": [
    "dataset[\"rate\"].fillna( method ='ffill', inplace = True)"
   ]
  },
  {
   "cell_type": "code",
   "execution_count": 5,
   "metadata": {
    "scrolled": true
   },
   "outputs": [
    {
     "data": {
      "text/plain": [
       "False"
      ]
     },
     "execution_count": 5,
     "metadata": {},
     "output_type": "execute_result"
    }
   ],
   "source": [
    "dataset['rate'].isnull().any()"
   ]
  },
  {
   "cell_type": "code",
   "execution_count": 6,
   "metadata": {},
   "outputs": [],
   "source": [
    "fs=[]\n",
    "for i in range(0,500):\n",
    "    t=(dataset['rate'][i]).split('/5')\n",
    "    f=t[0]\n",
    "    fs.append(f)"
   ]
  },
  {
   "cell_type": "code",
   "execution_count": 7,
   "metadata": {},
   "outputs": [],
   "source": [
    "for i in range(0,500):\n",
    "    temp=fs[i]\n",
    "    if temp==\"NEW\":\n",
    "        fs[i]='3.5'\n",
    "        "
   ]
  },
  {
   "cell_type": "code",
   "execution_count": 8,
   "metadata": {},
   "outputs": [],
   "source": [
    "a=[]\n",
    "for i in range(0,500):\n",
    "    temp=fs[i]\n",
    "    a.append(temp)"
   ]
  },
  {
   "cell_type": "code",
   "execution_count": 9,
   "metadata": {},
   "outputs": [],
   "source": [
    "dataset['rate']=a"
   ]
  },
  {
   "cell_type": "code",
   "execution_count": 10,
   "metadata": {},
   "outputs": [
    {
     "name": "stderr",
     "output_type": "stream",
     "text": [
      "[nltk_data] Downloading package stopwords to\n",
      "[nltk_data]     C:\\Users\\CHIRANJEVI\\AppData\\Roaming\\nltk_data...\n",
      "[nltk_data]   Package stopwords is already up-to-date!\n"
     ]
    },
    {
     "data": {
      "text/plain": [
       "True"
      ]
     },
     "execution_count": 10,
     "metadata": {},
     "output_type": "execute_result"
    }
   ],
   "source": [
    "import re\n",
    "import nltk\n",
    "nltk.download('stopwords')"
   ]
  },
  {
   "cell_type": "code",
   "execution_count": 11,
   "metadata": {},
   "outputs": [],
   "source": [
    "from nltk.corpus import stopwords\n",
    "from nltk.stem.porter import PorterStemmer\n",
    "ps= PorterStemmer()"
   ]
  },
  {
   "cell_type": "code",
   "execution_count": 12,
   "metadata": {},
   "outputs": [],
   "source": [
    "#Replacing puncuations and numbers using re library\n",
    "#stemming\n",
    "data=[]\n",
    "for i in range(0,500):\n",
    "    review=dataset[\"reviews_list\"][i]\n",
    "    review= re.sub('[^a-zA-Z]',' ',review)\n",
    "    #stemming    \n",
    "    review = review.split()\n",
    "    review = [ps.stem(word) for word in review if not word in set(stopwords.words('english'))]\n",
    "    review = ' '.join(review)\n",
    "    data.append(review)\n",
    "i+=1\n",
    "data\n",
    "df = pd.DataFrame(data)\n",
    "dataset.to_csv(\"zomato500.csv\", index=False)\n",
    "dataset[\"review_list\"]=data"
   ]
  }