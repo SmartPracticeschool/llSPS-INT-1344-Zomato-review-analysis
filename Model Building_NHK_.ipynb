{
 "cells": [
  {
   "cell_type": "code",
   "execution_count": 1,
   "metadata": {},
   "outputs": [],
   "source": [
    "import numpy as np\n",
    "import matplotlib.pyplot as plt\n",
    "import pandas as pd\n",
    "import csv"
   ]
  },
  {
   "cell_type": "code",
   "execution_count": 2,
   "metadata": {},
   "outputs": [
    {
     "data": {
      "text/html": [
       "<div>\n",
       "<style scoped>\n",
       "    .dataframe tbody tr th:only-of-type {\n",
       "        vertical-align: middle;\n",
       "    }\n",
       "\n",
       "    .dataframe tbody tr th {\n",
       "        vertical-align: top;\n",
       "    }\n",
       "\n",
       "    .dataframe thead th {\n",
       "        text-align: right;\n",
       "    }\n",
       "</style>\n",
       "<table border=\"1\" class=\"dataframe\">\n",
       "  <thead>\n",
       "    <tr style=\"text-align: right;\">\n",
       "      <th></th>\n",
       "      <th>url</th>\n",
       "      <th>address</th>\n",
       "      <th>name</th>\n",
       "      <th>online_order</th>\n",
       "      <th>book_table</th>\n",
       "      <th>rate</th>\n",
       "      <th>votes</th>\n",
       "      <th>phone</th>\n",
       "      <th>location</th>\n",
       "      <th>rest_type</th>\n",
       "      <th>dish_liked</th>\n",
       "      <th>cuisines</th>\n",
       "      <th>approx_cost(for two people)</th>\n",
       "      <th>reviews_list</th>\n",
       "      <th>menu_item</th>\n",
       "      <th>listed_in(type)</th>\n",
       "      <th>listed_in(city)</th>\n",
       "    </tr>\n",
       "  </thead>\n",
       "  <tbody>\n",
       "    <tr>\n",
       "      <th>0</th>\n",
       "      <td>https://www.zomato.com/bangalore/jalsa-banasha...</td>\n",
       "      <td>942, 21st Main Road, 2nd Stage, Banashankari, ...</td>\n",
       "      <td>Jalsa</td>\n",
       "      <td>Yes</td>\n",
       "      <td>Yes</td>\n",
       "      <td>4.1/5</td>\n",
       "      <td>775</td>\n",
       "      <td>080 42297555\\r\\n+91 9743772233</td>\n",
       "      <td>Banashankari</td>\n",
       "      <td>Casual Dining</td>\n",
       "      <td>Pasta, Lunch Buffet, Masala Papad, Paneer Laja...</td>\n",
       "      <td>North Indian, Mughlai, Chinese</td>\n",
       "      <td>800</td>\n",
       "      <td>[('Rated 4.0', 'RATED\\n  A beautiful place to ...</td>\n",
       "      <td>[]</td>\n",
       "      <td>Buffet</td>\n",
       "      <td>Banashankari</td>\n",
       "    </tr>\n",
       "    <tr>\n",
       "      <th>1</th>\n",
       "      <td>https://www.zomato.com/bangalore/spice-elephan...</td>\n",
       "      <td>2nd Floor, 80 Feet Road, Near Big Bazaar, 6th ...</td>\n",
       "      <td>Spice Elephant</td>\n",
       "      <td>Yes</td>\n",
       "      <td>No</td>\n",
       "      <td>4.1/5</td>\n",
       "      <td>787</td>\n",
       "      <td>080 41714161</td>\n",
       "      <td>Banashankari</td>\n",
       "      <td>Casual Dining</td>\n",
       "      <td>Momos, Lunch Buffet, Chocolate Nirvana, Thai G...</td>\n",
       "      <td>Chinese, North Indian, Thai</td>\n",
       "      <td>800</td>\n",
       "      <td>[('Rated 4.0', 'RATED\\n  Had been here for din...</td>\n",
       "      <td>[]</td>\n",
       "      <td>Buffet</td>\n",
       "      <td>Banashankari</td>\n",
       "    </tr>\n",
       "    <tr>\n",
       "      <th>2</th>\n",
       "      <td>https://www.zomato.com/SanchurroBangalore?cont...</td>\n",
       "      <td>1112, Next to KIMS Medical College, 17th Cross...</td>\n",
       "      <td>San Churro Cafe</td>\n",
       "      <td>Yes</td>\n",
       "      <td>No</td>\n",
       "      <td>3.8/5</td>\n",
       "      <td>918</td>\n",
       "      <td>+91 9663487993</td>\n",
       "      <td>Banashankari</td>\n",
       "      <td>Cafe, Casual Dining</td>\n",
       "      <td>Churros, Cannelloni, Minestrone Soup, Hot Choc...</td>\n",
       "      <td>Cafe, Mexican, Italian</td>\n",
       "      <td>800</td>\n",
       "      <td>[('Rated 3.0', \"RATED\\n  Ambience is not that ...</td>\n",
       "      <td>[]</td>\n",
       "      <td>Buffet</td>\n",
       "      <td>Banashankari</td>\n",
       "    </tr>\n",
       "    <tr>\n",
       "      <th>3</th>\n",
       "      <td>https://www.zomato.com/bangalore/addhuri-udupi...</td>\n",
       "      <td>1st Floor, Annakuteera, 3rd Stage, Banashankar...</td>\n",
       "      <td>Addhuri Udupi Bhojana</td>\n",
       "      <td>No</td>\n",
       "      <td>No</td>\n",
       "      <td>3.7/5</td>\n",
       "      <td>88</td>\n",
       "      <td>+91 9620009302</td>\n",
       "      <td>Banashankari</td>\n",
       "      <td>Quick Bites</td>\n",
       "      <td>Masala Dosa</td>\n",
       "      <td>South Indian, North Indian</td>\n",
       "      <td>300</td>\n",
       "      <td>[('Rated 4.0', \"RATED\\n  Great food and proper...</td>\n",
       "      <td>[]</td>\n",
       "      <td>Buffet</td>\n",
       "      <td>Banashankari</td>\n",
       "    </tr>\n",
       "    <tr>\n",
       "      <th>4</th>\n",
       "      <td>https://www.zomato.com/bangalore/grand-village...</td>\n",
       "      <td>10, 3rd Floor, Lakshmi Associates, Gandhi Baza...</td>\n",
       "      <td>Grand Village</td>\n",
       "      <td>No</td>\n",
       "      <td>No</td>\n",
       "      <td>3.8/5</td>\n",
       "      <td>166</td>\n",
       "      <td>+91 8026612447\\r\\n+91 9901210005</td>\n",
       "      <td>Basavanagudi</td>\n",
       "      <td>Casual Dining</td>\n",
       "      <td>Panipuri, Gol Gappe</td>\n",
       "      <td>North Indian, Rajasthani</td>\n",
       "      <td>600</td>\n",
       "      <td>[('Rated 4.0', 'RATED\\n  Very good restaurant ...</td>\n",
       "      <td>[]</td>\n",
       "      <td>Buffet</td>\n",
       "      <td>Banashankari</td>\n",
       "    </tr>\n",
       "    <tr>\n",
       "      <th>...</th>\n",
       "      <td>...</td>\n",
       "      <td>...</td>\n",
       "      <td>...</td>\n",
       "      <td>...</td>\n",
       "      <td>...</td>\n",
       "      <td>...</td>\n",
       "      <td>...</td>\n",
       "      <td>...</td>\n",
       "      <td>...</td>\n",
       "      <td>...</td>\n",
       "      <td>...</td>\n",
       "      <td>...</td>\n",
       "      <td>...</td>\n",
       "      <td>...</td>\n",
       "      <td>...</td>\n",
       "      <td>...</td>\n",
       "      <td>...</td>\n",
       "    </tr>\n",
       "    <tr>\n",
       "      <th>95</th>\n",
       "      <td>https://www.zomato.com/bangalore/vi-ras-bar-an...</td>\n",
       "      <td>3828, Near Deve Gowda Petrol Bunk, 30th Cross,...</td>\n",
       "      <td>Vi Ra's Bar and Restaurant</td>\n",
       "      <td>No</td>\n",
       "      <td>No</td>\n",
       "      <td>3.3/5</td>\n",
       "      <td>62</td>\n",
       "      <td>+91 9845063930\\r\\n+91 7411148111</td>\n",
       "      <td>Banashankari</td>\n",
       "      <td>Bar</td>\n",
       "      <td>Chilli Chicken</td>\n",
       "      <td>South Indian, North Indian, Chinese</td>\n",
       "      <td>800</td>\n",
       "      <td>[]</td>\n",
       "      <td>[]</td>\n",
       "      <td>Delivery</td>\n",
       "      <td>Banashankari</td>\n",
       "    </tr>\n",
       "    <tr>\n",
       "      <th>96</th>\n",
       "      <td>https://www.zomato.com/bangalore/kaggis-banash...</td>\n",
       "      <td>50 Feet Road, Hanumanthanagar, Banashankari, B...</td>\n",
       "      <td>Kaggis</td>\n",
       "      <td>No</td>\n",
       "      <td>No</td>\n",
       "      <td>3.8/5</td>\n",
       "      <td>64</td>\n",
       "      <td>+91 9900191258\\r\\n080 26509710</td>\n",
       "      <td>Banashankari</td>\n",
       "      <td>Quick Bites</td>\n",
       "      <td>NaN</td>\n",
       "      <td>Fast Food, Bakery</td>\n",
       "      <td>250</td>\n",
       "      <td>[('Rated 4.0', \"RATED\\n  My favorite place sin...</td>\n",
       "      <td>[]</td>\n",
       "      <td>Delivery</td>\n",
       "      <td>Banashankari</td>\n",
       "    </tr>\n",
       "    <tr>\n",
       "      <th>97</th>\n",
       "      <td>https://www.zomato.com/bangalore/ayda-persian-...</td>\n",
       "      <td>34, 22nd Main, 22nd Cross, Opposite BDA, 2nd S...</td>\n",
       "      <td>Ayda Persian Kitchen</td>\n",
       "      <td>No</td>\n",
       "      <td>No</td>\n",
       "      <td>3.7/5</td>\n",
       "      <td>39</td>\n",
       "      <td>080 42124293</td>\n",
       "      <td>Banashankari</td>\n",
       "      <td>Casual Dining</td>\n",
       "      <td>NaN</td>\n",
       "      <td>North Indian, Iranian</td>\n",
       "      <td>950</td>\n",
       "      <td>[('Rated 1.0', 'RATED\\n  The quality of foods ...</td>\n",
       "      <td>[]</td>\n",
       "      <td>Delivery</td>\n",
       "      <td>Banashankari</td>\n",
       "    </tr>\n",
       "    <tr>\n",
       "      <th>98</th>\n",
       "      <td>https://www.zomato.com/bangalore/chatar-patar-...</td>\n",
       "      <td>24/1, 23rd Cross, 6th Main Road, Opposite Kave...</td>\n",
       "      <td>Chatar Patar</td>\n",
       "      <td>No</td>\n",
       "      <td>No</td>\n",
       "      <td>3.7/5</td>\n",
       "      <td>65</td>\n",
       "      <td>+91 7619353103</td>\n",
       "      <td>Banashankari</td>\n",
       "      <td>Quick Bites</td>\n",
       "      <td>Panipuri, Chaat, Noodles, Dahi Bhalle</td>\n",
       "      <td>Fast Food, Street Food</td>\n",
       "      <td>300</td>\n",
       "      <td>[('Rated 4.0', \"RATED\\n  I've had food from Ch...</td>\n",
       "      <td>[]</td>\n",
       "      <td>Delivery</td>\n",
       "      <td>Banashankari</td>\n",
       "    </tr>\n",
       "    <tr>\n",
       "      <th>99</th>\n",
       "      <td>https://www.zomato.com/bangalore/polar-bear-1-...</td>\n",
       "      <td>96, Opposite Jain Collage, Basavanagudi, Banga...</td>\n",
       "      <td>Polar Bear</td>\n",
       "      <td>Yes</td>\n",
       "      <td>No</td>\n",
       "      <td>3.8/5</td>\n",
       "      <td>71</td>\n",
       "      <td>080 49652725</td>\n",
       "      <td>Basavanagudi</td>\n",
       "      <td>Dessert Parlor</td>\n",
       "      <td>Hot Chocolate Fudge</td>\n",
       "      <td>Ice Cream, Desserts, Beverages, Sandwich</td>\n",
       "      <td>400</td>\n",
       "      <td>[('Rated 4.0', \"RATED\\n  My Go to place for la...</td>\n",
       "      <td>[]</td>\n",
       "      <td>Delivery</td>\n",
       "      <td>Banashankari</td>\n",
       "    </tr>\n",
       "  </tbody>\n",
       "</table>\n",
       "<p>100 rows × 17 columns</p>\n",
       "</div>"
      ],
      "text/plain": [
       "                                                  url  \\\n",
       "0   https://www.zomato.com/bangalore/jalsa-banasha...   \n",
       "1   https://www.zomato.com/bangalore/spice-elephan...   \n",
       "2   https://www.zomato.com/SanchurroBangalore?cont...   \n",
       "3   https://www.zomato.com/bangalore/addhuri-udupi...   \n",
       "4   https://www.zomato.com/bangalore/grand-village...   \n",
       "..                                                ...   \n",
       "95  https://www.zomato.com/bangalore/vi-ras-bar-an...   \n",
       "96  https://www.zomato.com/bangalore/kaggis-banash...   \n",
       "97  https://www.zomato.com/bangalore/ayda-persian-...   \n",
       "98  https://www.zomato.com/bangalore/chatar-patar-...   \n",
       "99  https://www.zomato.com/bangalore/polar-bear-1-...   \n",
       "\n",
       "                                              address  \\\n",
       "0   942, 21st Main Road, 2nd Stage, Banashankari, ...   \n",
       "1   2nd Floor, 80 Feet Road, Near Big Bazaar, 6th ...   \n",
       "2   1112, Next to KIMS Medical College, 17th Cross...   \n",
       "3   1st Floor, Annakuteera, 3rd Stage, Banashankar...   \n",
       "4   10, 3rd Floor, Lakshmi Associates, Gandhi Baza...   \n",
       "..                                                ...   \n",
       "95  3828, Near Deve Gowda Petrol Bunk, 30th Cross,...   \n",
       "96  50 Feet Road, Hanumanthanagar, Banashankari, B...   \n",
       "97  34, 22nd Main, 22nd Cross, Opposite BDA, 2nd S...   \n",
       "98  24/1, 23rd Cross, 6th Main Road, Opposite Kave...   \n",
       "99  96, Opposite Jain Collage, Basavanagudi, Banga...   \n",
       "\n",
       "                          name online_order book_table   rate  votes  \\\n",
       "0                        Jalsa          Yes        Yes  4.1/5    775   \n",
       "1               Spice Elephant          Yes         No  4.1/5    787   \n",
       "2              San Churro Cafe          Yes         No  3.8/5    918   \n",
       "3        Addhuri Udupi Bhojana           No         No  3.7/5     88   \n",
       "4                Grand Village           No         No  3.8/5    166   \n",
       "..                         ...          ...        ...    ...    ...   \n",
       "95  Vi Ra's Bar and Restaurant           No         No  3.3/5     62   \n",
       "96                      Kaggis           No         No  3.8/5     64   \n",
       "97        Ayda Persian Kitchen           No         No  3.7/5     39   \n",
       "98                Chatar Patar           No         No  3.7/5     65   \n",
       "99                  Polar Bear          Yes         No  3.8/5     71   \n",
       "\n",
       "                               phone      location            rest_type  \\\n",
       "0     080 42297555\\r\\n+91 9743772233  Banashankari        Casual Dining   \n",
       "1                       080 41714161  Banashankari        Casual Dining   \n",
       "2                     +91 9663487993  Banashankari  Cafe, Casual Dining   \n",
       "3                     +91 9620009302  Banashankari          Quick Bites   \n",
       "4   +91 8026612447\\r\\n+91 9901210005  Basavanagudi        Casual Dining   \n",
       "..                               ...           ...                  ...   \n",
       "95  +91 9845063930\\r\\n+91 7411148111  Banashankari                  Bar   \n",
       "96    +91 9900191258\\r\\n080 26509710  Banashankari          Quick Bites   \n",
       "97                      080 42124293  Banashankari        Casual Dining   \n",
       "98                    +91 7619353103  Banashankari          Quick Bites   \n",
       "99                      080 49652725  Basavanagudi       Dessert Parlor   \n",
       "\n",
       "                                           dish_liked  \\\n",
       "0   Pasta, Lunch Buffet, Masala Papad, Paneer Laja...   \n",
       "1   Momos, Lunch Buffet, Chocolate Nirvana, Thai G...   \n",
       "2   Churros, Cannelloni, Minestrone Soup, Hot Choc...   \n",
       "3                                         Masala Dosa   \n",
       "4                                 Panipuri, Gol Gappe   \n",
       "..                                                ...   \n",
       "95                                     Chilli Chicken   \n",
       "96                                                NaN   \n",
       "97                                                NaN   \n",
       "98              Panipuri, Chaat, Noodles, Dahi Bhalle   \n",
       "99                                Hot Chocolate Fudge   \n",
       "\n",
       "                                    cuisines approx_cost(for two people)  \\\n",
       "0             North Indian, Mughlai, Chinese                         800   \n",
       "1                Chinese, North Indian, Thai                         800   \n",
       "2                     Cafe, Mexican, Italian                         800   \n",
       "3                 South Indian, North Indian                         300   \n",
       "4                   North Indian, Rajasthani                         600   \n",
       "..                                       ...                         ...   \n",
       "95       South Indian, North Indian, Chinese                         800   \n",
       "96                         Fast Food, Bakery                         250   \n",
       "97                     North Indian, Iranian                         950   \n",
       "98                    Fast Food, Street Food                         300   \n",
       "99  Ice Cream, Desserts, Beverages, Sandwich                         400   \n",
       "\n",
       "                                         reviews_list menu_item  \\\n",
       "0   [('Rated 4.0', 'RATED\\n  A beautiful place to ...        []   \n",
       "1   [('Rated 4.0', 'RATED\\n  Had been here for din...        []   \n",
       "2   [('Rated 3.0', \"RATED\\n  Ambience is not that ...        []   \n",
       "3   [('Rated 4.0', \"RATED\\n  Great food and proper...        []   \n",
       "4   [('Rated 4.0', 'RATED\\n  Very good restaurant ...        []   \n",
       "..                                                ...       ...   \n",
       "95                                                 []        []   \n",
       "96  [('Rated 4.0', \"RATED\\n  My favorite place sin...        []   \n",
       "97  [('Rated 1.0', 'RATED\\n  The quality of foods ...        []   \n",
       "98  [('Rated 4.0', \"RATED\\n  I've had food from Ch...        []   \n",
       "99  [('Rated 4.0', \"RATED\\n  My Go to place for la...        []   \n",
       "\n",
       "   listed_in(type) listed_in(city)  \n",
       "0           Buffet    Banashankari  \n",
       "1           Buffet    Banashankari  \n",
       "2           Buffet    Banashankari  \n",
       "3           Buffet    Banashankari  \n",
       "4           Buffet    Banashankari  \n",
       "..             ...             ...  \n",
       "95        Delivery    Banashankari  \n",
       "96        Delivery    Banashankari  \n",
       "97        Delivery    Banashankari  \n",
       "98        Delivery    Banashankari  \n",
       "99        Delivery    Banashankari  \n",
       "\n",
       "[100 rows x 17 columns]"
      ]
     },
     "execution_count": 2,
     "metadata": {},
     "output_type": "execute_result"
    }
   ],
   "source": [
    "dataset = pd.read_csv('zomato100.csv')\n",
    "dataset"
   ]
  },
  {
   "cell_type": "code",
   "execution_count": 3,
   "metadata": {},
   "outputs": [
    {
     "name": "stderr",
     "output_type": "stream",
     "text": [
      "[nltk_data] Downloading package stopwords to\n",
      "[nltk_data]     C:\\Users\\nhk15\\AppData\\Roaming\\nltk_data...\n",
      "[nltk_data]   Unzipping corpora\\stopwords.zip.\n"
     ]
    },
    {
     "data": {
      "text/plain": [
       "True"
      ]
     },
     "execution_count": 3,
     "metadata": {},
     "output_type": "execute_result"
    }
   ],
   "source": [
    "import re\n",
    "import nltk\n",
    "nltk.download('stopwords')"
   ]
  },
  {
   "cell_type": "code",
   "execution_count": 4,
   "metadata": {},
   "outputs": [],
   "source": [
    "from nltk.corpus import stopwords\n",
    "from nltk.stem.porter import PorterStemmer\n",
    "ps= PorterStemmer()"
   ]
  },
  {
   "cell_type": "code",
   "execution_count": 5,
   "metadata": {},
   "outputs": [],
   "source": [
    "data=[]\n",
    "for i in range(0,100):\n",
    "    review=dataset[\"reviews_list\"][i]\n",
    "    review= re.sub('[^a-zA-Z]',' ',review)\n",
    "    #stemming    \n",
    "    review = review.split()\n",
    "    review = [ps.stem(word) for word in review if not word in set(stopwords.words('english'))]\n",
    "    review = ' '.join(review)\n",
    "    data.append(review)\n",
    "i+=1\n",
    "data\n",
    "df = pd.DataFrame(data)\n",
    "dataset.to_csv(\"zomato100.csv\", index=False)"
   ]
  },
  {
   "cell_type": "code",
   "execution_count": 8,
   "metadata": {},
   "outputs": [],
   "source": [
    "pf=pd.read_csv('zomato100.csv')"
   ]
  },
  {
   "cell_type": "code",
   "execution_count": 9,
   "metadata": {},
   "outputs": [],
   "source": [
    "d=[]\n",
    "for i in range(0,100):\n",
    "    lower_case=data[i]\n",
    "    lower_case=lower_case.lower()\n",
    "    \n",
    "    d.append(lower_case)\n",
    "data=d"
   ]
  },
  {
   "cell_type": "code",
   "execution_count": 10,
   "metadata": {},
   "outputs": [],
   "source": [
    "dataset[\"reviews_list\"]=data"
   ]
  },
  {
   "cell_type": "code",
   "execution_count": 11,
   "metadata": {},
   "outputs": [],
   "source": [
    "import pickle"
   ]
  },
  {
   "cell_type": "code",
   "execution_count": 12,
   "metadata": {},
   "outputs": [],
   "source": [
    "from  sklearn.feature_extraction.text import CountVectorizer"
   ]
  },
  {
   "cell_type": "code",
   "execution_count": 13,
   "metadata": {},
   "outputs": [],
   "source": [
    "cv =CountVectorizer(max_features=150000)\n",
    "X=cv.fit_transform(d).toarray()\n",
    "y= dataset.iloc[:,-1].values"
   ]
  },
  {
   "cell_type": "code",
   "execution_count": 14,
   "metadata": {},
   "outputs": [],
   "source": [
    "from sklearn.model_selection import train_test_split\n",
    "x_train,x_test,y_train,y_test=train_test_split(X,y,test_size=0.3,random_state=0)"
   ]
  },
  {
   "cell_type": "code",
   "execution_count": 15,
   "metadata": {},
   "outputs": [],
   "source": [
    "pickle.dump(cv.vocabulary_,open(\"resturent.pkl\",\"wb\"))"
   ]
  },
  {
   "cell_type": "code",
   "execution_count": 16,
   "metadata": {},
   "outputs": [
    {
     "name": "stderr",
     "output_type": "stream",
     "text": [
      "Using TensorFlow backend.\n",
      "C:\\Users\\nhk15\\Downloads\\anaconda\\lib\\site-packages\\tensorflow\\python\\framework\\dtypes.py:516: FutureWarning: Passing (type, 1) or '1type' as a synonym of type is deprecated; in a future version of numpy, it will be understood as (type, (1,)) / '(1,)type'.\n",
      "  _np_qint8 = np.dtype([(\"qint8\", np.int8, 1)])\n",
      "C:\\Users\\nhk15\\Downloads\\anaconda\\lib\\site-packages\\tensorflow\\python\\framework\\dtypes.py:517: FutureWarning: Passing (type, 1) or '1type' as a synonym of type is deprecated; in a future version of numpy, it will be understood as (type, (1,)) / '(1,)type'.\n",
      "  _np_quint8 = np.dtype([(\"quint8\", np.uint8, 1)])\n",
      "C:\\Users\\nhk15\\Downloads\\anaconda\\lib\\site-packages\\tensorflow\\python\\framework\\dtypes.py:518: FutureWarning: Passing (type, 1) or '1type' as a synonym of type is deprecated; in a future version of numpy, it will be understood as (type, (1,)) / '(1,)type'.\n",
      "  _np_qint16 = np.dtype([(\"qint16\", np.int16, 1)])\n",
      "C:\\Users\\nhk15\\Downloads\\anaconda\\lib\\site-packages\\tensorflow\\python\\framework\\dtypes.py:519: FutureWarning: Passing (type, 1) or '1type' as a synonym of type is deprecated; in a future version of numpy, it will be understood as (type, (1,)) / '(1,)type'.\n",
      "  _np_quint16 = np.dtype([(\"quint16\", np.uint16, 1)])\n",
      "C:\\Users\\nhk15\\Downloads\\anaconda\\lib\\site-packages\\tensorflow\\python\\framework\\dtypes.py:520: FutureWarning: Passing (type, 1) or '1type' as a synonym of type is deprecated; in a future version of numpy, it will be understood as (type, (1,)) / '(1,)type'.\n",
      "  _np_qint32 = np.dtype([(\"qint32\", np.int32, 1)])\n",
      "C:\\Users\\nhk15\\Downloads\\anaconda\\lib\\site-packages\\tensorflow\\python\\framework\\dtypes.py:525: FutureWarning: Passing (type, 1) or '1type' as a synonym of type is deprecated; in a future version of numpy, it will be understood as (type, (1,)) / '(1,)type'.\n",
      "  np_resource = np.dtype([(\"resource\", np.ubyte, 1)])\n",
      "C:\\Users\\nhk15\\Downloads\\anaconda\\lib\\site-packages\\tensorboard\\compat\\tensorflow_stub\\dtypes.py:541: FutureWarning: Passing (type, 1) or '1type' as a synonym of type is deprecated; in a future version of numpy, it will be understood as (type, (1,)) / '(1,)type'.\n",
      "  _np_qint8 = np.dtype([(\"qint8\", np.int8, 1)])\n",
      "C:\\Users\\nhk15\\Downloads\\anaconda\\lib\\site-packages\\tensorboard\\compat\\tensorflow_stub\\dtypes.py:542: FutureWarning: Passing (type, 1) or '1type' as a synonym of type is deprecated; in a future version of numpy, it will be understood as (type, (1,)) / '(1,)type'.\n",
      "  _np_quint8 = np.dtype([(\"quint8\", np.uint8, 1)])\n",
      "C:\\Users\\nhk15\\Downloads\\anaconda\\lib\\site-packages\\tensorboard\\compat\\tensorflow_stub\\dtypes.py:543: FutureWarning: Passing (type, 1) or '1type' as a synonym of type is deprecated; in a future version of numpy, it will be understood as (type, (1,)) / '(1,)type'.\n",
      "  _np_qint16 = np.dtype([(\"qint16\", np.int16, 1)])\n",
      "C:\\Users\\nhk15\\Downloads\\anaconda\\lib\\site-packages\\tensorboard\\compat\\tensorflow_stub\\dtypes.py:544: FutureWarning: Passing (type, 1) or '1type' as a synonym of type is deprecated; in a future version of numpy, it will be understood as (type, (1,)) / '(1,)type'.\n",
      "  _np_quint16 = np.dtype([(\"quint16\", np.uint16, 1)])\n",
      "C:\\Users\\nhk15\\Downloads\\anaconda\\lib\\site-packages\\tensorboard\\compat\\tensorflow_stub\\dtypes.py:545: FutureWarning: Passing (type, 1) or '1type' as a synonym of type is deprecated; in a future version of numpy, it will be understood as (type, (1,)) / '(1,)type'.\n",
      "  _np_qint32 = np.dtype([(\"qint32\", np.int32, 1)])\n",
      "C:\\Users\\nhk15\\Downloads\\anaconda\\lib\\site-packages\\tensorboard\\compat\\tensorflow_stub\\dtypes.py:550: FutureWarning: Passing (type, 1) or '1type' as a synonym of type is deprecated; in a future version of numpy, it will be understood as (type, (1,)) / '(1,)type'.\n",
      "  np_resource = np.dtype([(\"resource\", np.ubyte, 1)])\n"
     ]
    }
   ],
   "source": [
    "import keras\n",
    "from keras.models import Sequential\n",
    "from keras.layers import Dense\n"
   ]
  },
  {
   "cell_type": "code",
   "execution_count": 17,
   "metadata": {},
   "outputs": [],
   "source": [
    "import seaborn as sns\n",
    "import warnings\n",
    "warnings.filterwarnings('ignore')\n"
   ]
  },
  {
   "cell_type": "markdown",
   "metadata": {},
   "source": [
    "## initializing the model"
   ]
  },
  {
   "cell_type": "code",
   "execution_count": 18,
   "metadata": {},
   "outputs": [
    {
     "name": "stdout",
     "output_type": "stream",
     "text": [
      "WARNING:tensorflow:From C:\\Users\\nhk15\\Downloads\\anaconda\\lib\\site-packages\\keras\\backend\\tensorflow_backend.py:74: The name tf.get_default_graph is deprecated. Please use tf.compat.v1.get_default_graph instead.\n",
      "\n"
     ]
    }
   ],
   "source": [
    "model=Sequential()"
   ]
  },
  {
   "cell_type": "markdown",
   "metadata": {},
   "source": [
    "## adding input layer"
   ]
  },
  {
   "cell_type": "code",
   "execution_count": 19,
   "metadata": {},
   "outputs": [
    {
     "name": "stdout",
     "output_type": "stream",
     "text": [
      "WARNING:tensorflow:From C:\\Users\\nhk15\\Downloads\\anaconda\\lib\\site-packages\\keras\\backend\\tensorflow_backend.py:517: The name tf.placeholder is deprecated. Please use tf.compat.v1.placeholder instead.\n",
      "\n",
      "WARNING:tensorflow:From C:\\Users\\nhk15\\Downloads\\anaconda\\lib\\site-packages\\keras\\backend\\tensorflow_backend.py:4138: The name tf.random_uniform is deprecated. Please use tf.random.uniform instead.\n",
      "\n"
     ]
    }
   ],
   "source": [
    "model.add(Dense(output_dim=128,activation='relu',init='random_uniform',input_dim=130))"
   ]
  },
  {
   "cell_type": "markdown",
   "metadata": {},
   "source": [
    "## adding hidden layer"
   ]
  },
  {
   "cell_type": "code",
   "execution_count": 20,
   "metadata": {},
   "outputs": [],
   "source": [
    "model.add(Dense(output_dim=1,activation='relu',init='random_uniform'))"
   ]
  },
  {
   "cell_type": "markdown",
   "metadata": {},
   "source": [
    "## adding output layer\n"
   ]
  },
  {
   "cell_type": "code",
   "execution_count": 21,
   "metadata": {},
   "outputs": [],
   "source": [
    "model.add(Dense(output_dim=1,activation='sigmoid',init='random_uniform'))"
   ]
  },
  {
   "cell_type": "markdown",
   "metadata": {},
   "source": [
    "## configuring the learning process"
   ]
  },
  {
   "cell_type": "code",
   "execution_count": 22,
   "metadata": {},
   "outputs": [
    {
     "name": "stdout",
     "output_type": "stream",
     "text": [
      "WARNING:tensorflow:From C:\\Users\\nhk15\\Downloads\\anaconda\\lib\\site-packages\\keras\\optimizers.py:790: The name tf.train.Optimizer is deprecated. Please use tf.compat.v1.train.Optimizer instead.\n",
      "\n",
      "WARNING:tensorflow:From C:\\Users\\nhk15\\Downloads\\anaconda\\lib\\site-packages\\keras\\backend\\tensorflow_backend.py:3376: The name tf.log is deprecated. Please use tf.math.log instead.\n",
      "\n",
      "WARNING:tensorflow:From C:\\Users\\nhk15\\Downloads\\anaconda\\lib\\site-packages\\tensorflow\\python\\ops\\nn_impl.py:180: add_dispatch_support.<locals>.wrapper (from tensorflow.python.ops.array_ops) is deprecated and will be removed in a future version.\n",
      "Instructions for updating:\n",
      "Use tf.where in 2.0, which has the same broadcast rule as np.where\n"
     ]
    }
   ],
   "source": [
    "model.compile(optimizer='adam',loss='binary_crossentropy',metrics=['accuracy'])"
   ]
  },
  {
   "cell_type": "code",
   "execution_count": null,
   "metadata": {},
   "outputs": [],
   "source": []
  }
 ],
 "metadata": {
  "kernelspec": {
   "display_name": "Python 3",
   "language": "python",
   "name": "python3"
  },
  "language_info": {
   "codemirror_mode": {
    "name": "ipython",
    "version": 3
   },
   "file_extension": ".py",
   "mimetype": "text/x-python",
   "name": "python",
   "nbconvert_exporter": "python",
   "pygments_lexer": "ipython3",
   "version": "3.7.6"
  }
 },
 "nbformat": 4,
 "nbformat_minor": 4
}
